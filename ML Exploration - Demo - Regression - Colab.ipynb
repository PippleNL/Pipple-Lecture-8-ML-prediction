{
 "cells": [
  {
   "cell_type": "markdown",
   "metadata": {},
   "source": [
    "# ML Exploration Notebook\n",
    "\n",
    "This notebook can be used to explore the data of an underlying problem and see if the data is suited for predictive analysis. Several regressions will be compared on predictive performance metrics R2, mean squared error and mean average error, such that the user can get a head start in solving the problem or managing expectations.\n",
    "\n",
    "The notebook is structured in the following way:\n",
    "\n",
    "    1. Set project path\n",
    "    2. Read in (raw) Data Set\n",
    "    3. Basic Data Information\n",
    "    4. Set Dependent & Independent Variables \n",
    "    5. Set Parameter Values\n",
    "    6. Generate Predictions\n",
    "    7. Compare Models"
   ]
  },
  {
   "cell_type": "markdown",
   "metadata": {},
   "source": [
    "### 1. Set project path"
   ]
  },
  {
   "cell_type": "markdown",
   "metadata": {},
   "source": [
    "In order to make use of the files stored on Github via Colab, we first have to clone the folder on Github to the current Colab-folder."
   ]
  },
  {
   "cell_type": "code",
   "execution_count": null,
   "metadata": {},
   "outputs": [],
   "source": [
    "# Clone the entire repo.\n",
    "!git clone -s git://github.com/PippleNL/Pipple-Lecture-8-ML-prediction.git cloned-repo\n",
    "%cd cloned-repo\n",
    "#!ls for colab"
   ]
  },
  {
   "cell_type": "markdown",
   "metadata": {},
   "source": [
    "We will use package os to set the correct project_path"
   ]
  },
  {
   "cell_type": "code",
   "execution_count": null,
   "metadata": {},
   "outputs": [],
   "source": [
    "import os\n",
    "project_path = os.getcwd()"
   ]
  },
  {
   "cell_type": "markdown",
   "metadata": {},
   "source": [
    "### 2. Read in (raw) Data Set\n",
    "\n",
    "The (raw) data set of the underlying problem is read from a comma seperated file (.csv). "
   ]
  },
  {
   "cell_type": "code",
   "execution_count": null,
   "metadata": {},
   "outputs": [],
   "source": [
    "import pandas as pd\n",
    "data_path = os.path.join(project_path, 'data','WA_Fn-UseC_-HR-Employee-Attrition.csv')\n",
    "data = pd.read_csv(data_path)"
   ]
  },
  {
   "cell_type": "markdown",
   "metadata": {},
   "source": [
    "### 3. Basic Data Information\n",
    "\n",
    "Below you can find some basic information of the data set. It lists the first couple of rows, a summary of the dataframe including the dtype and number of non-null values per column and the shape of the dataframe."
   ]
  },
  {
   "cell_type": "code",
   "execution_count": null,
   "metadata": {},
   "outputs": [],
   "source": [
    "data.info()"
   ]
  },
  {
   "cell_type": "code",
   "execution_count": null,
   "metadata": {},
   "outputs": [],
   "source": [
    "data.head()"
   ]
  },
  {
   "cell_type": "markdown",
   "metadata": {},
   "source": [
    "If you'd like to change a column's dtype to numeric, please add this column to the list of strings below (e.g. columns2num = ['Age'])"
   ]
  },
  {
   "cell_type": "code",
   "execution_count": null,
   "metadata": {},
   "outputs": [],
   "source": [
    "from functions.data_preparation import column2num\n",
    "columns2num = []\n",
    "\n",
    "if len(columns2num) > 0:\n",
    "    data = column2num(data, columns2num)"
   ]
  },
  {
   "cell_type": "markdown",
   "metadata": {},
   "source": [
    "We can check the number of NaN values for each column."
   ]
  },
  {
   "cell_type": "code",
   "execution_count": null,
   "metadata": {},
   "outputs": [],
   "source": [
    "data.isnull().sum()"
   ]
  },
  {
   "cell_type": "markdown",
   "metadata": {},
   "source": [
    "We'll state the number of unique values per column. If a column only has one value, it will not have any impact on a prediction."
   ]
  },
  {
   "cell_type": "code",
   "execution_count": null,
   "metadata": {},
   "outputs": [],
   "source": [
    "print('Unique Values for Each Feature: \\n')\n",
    "for i in data.columns:\n",
    "    print(i, ':', data[i].nunique())"
   ]
  },
  {
   "cell_type": "markdown",
   "metadata": {},
   "source": [
    "We can have a look at the correlation matrix to get an idea of relations between variables."
   ]
  },
  {
   "cell_type": "code",
   "execution_count": null,
   "metadata": {},
   "outputs": [],
   "source": [
    "import matplotlib.pyplot as plt\n",
    "import seaborn as sns\n",
    "fig, ax = plt.subplots(figsize=(9,9)) \n",
    "corr_mat = round(data.corr(method='pearson'), 2)\n",
    "sns.heatmap(corr_mat, vmin=-1, vmax=1, center=0, annot=False, cmap=sns.diverging_palette(20, 220, n=200), square=True)"
   ]
  },
  {
   "cell_type": "markdown",
   "metadata": {},
   "source": [
    "### 4. Set Dependent & Independent Variables\n",
    "\n",
    "Specify below in string which variable (i.e. column) will be used as dependent variable. This variable will be set as y (i.e. label) and will ultimately be modeled. Also, specify a list of other (independent) variables in string that are used to explain the dependent variable. If empty, all other variables will be used."
   ]
  },
  {
   "cell_type": "code",
   "execution_count": null,
   "metadata": {},
   "outputs": [],
   "source": [
    "dependent = 'MonthlyIncome'  # fill in your dependent variable here...\n",
    "independent = ['Age', 'BusinessTravel', 'Department', 'Education', 'Gender', 'JobSatisfaction', 'TotalWorkingYears'] # fill the list of independent variables here..."
   ]
  },
  {
   "cell_type": "markdown",
   "metadata": {},
   "source": [
    "### 5. Set Parameter Values\n",
    "\n",
    "Specify below the parameter values used while comparing models. If kept commented, the default value will be used. If uncommented, added these parameters to the function main."
   ]
  },
  {
   "cell_type": "code",
   "execution_count": null,
   "metadata": {},
   "outputs": [],
   "source": [
    "impute_strategy = 0.  # either a float or 'drop' (default), 'mean', 'median', 'most_frequent'\n",
    "labelenc_x = ['BusinessTravel']  # fill the list of independent variables for label encoding here...\n",
    "onehotenc_x = ['Gender', 'Department']  # fill the list of independent variables for one hot encoding\n",
    "feature_scaling = 'auto'  # None, 'standardisation', 'minmax' or 'auto'"
   ]
  },
  {
   "cell_type": "markdown",
   "metadata": {},
   "source": [
    "### 6. Generate Predictions\n",
    "\n",
    "Predictions are generated for several models using the function 'main_regression' from the Python script 'compare_models'. Note that if not specified differently, all default parameter values are used. More information can be retrieved by running main_regression()."
   ]
  },
  {
   "cell_type": "code",
   "execution_count": null,
   "metadata": {},
   "outputs": [],
   "source": [
    "import warnings\n",
    "warnings.filterwarnings(\"ignore\", category=DeprecationWarning)\n",
    "warnings.filterwarnings(\"ignore\", category=FutureWarning)\n",
    "\n",
    "from functions.compare_models import main_regression\n",
    "predictions = main_regression(data, dependent, independent, impute_strategy=impute_strategy, labelenc_x=labelenc_x, onehotenc_x=onehotenc_x, feature_scaling_method=feature_scaling)"
   ]
  },
  {
   "cell_type": "markdown",
   "metadata": {},
   "source": [
    "### 7. Compare Models\n",
    "\n",
    "Models are compared based on predictive performance metrics that are calculated and sorted by the (own-developed) function 'sort_compute_metrics_regr' in the Python script 'compare_models'. The residual, i.e. the difference between the predicted value and the actual value, are drawn using the (own-developed) function 'draw_residual_plot'. More information on both function can be retrieved using sort_compute_metrics_regr() and draw_residual_plot()."
   ]
  },
  {
   "cell_type": "code",
   "execution_count": null,
   "metadata": {},
   "outputs": [],
   "source": [
    "from functions.compare_models import sort_compute_metrics_regr\n",
    "header, scores = sort_compute_metrics_regr(predictions)\n",
    "pd.DataFrame(scores, columns=header)"
   ]
  },
  {
   "cell_type": "code",
   "execution_count": null,
   "metadata": {},
   "outputs": [],
   "source": [
    "from functions.compare_models import draw_residual_plot\n",
    "draw_residual_plot(predictions)"
   ]
  },
  {
   "cell_type": "code",
   "execution_count": null,
   "metadata": {},
   "outputs": [],
   "source": []
  }
 ],
 "metadata": {
  "_change_revision": 0,
  "_is_fork": false,
  "kernelspec": {
   "display_name": "Python 3",
   "language": "python",
   "name": "python3"
  },
  "language_info": {
   "codemirror_mode": {
    "name": "ipython",
    "version": 3
   },
   "file_extension": ".py",
   "mimetype": "text/x-python",
   "name": "python",
   "nbconvert_exporter": "python",
   "pygments_lexer": "ipython3",
   "version": "3.7.3"
  }
 },
 "nbformat": 4,
 "nbformat_minor": 2
}
