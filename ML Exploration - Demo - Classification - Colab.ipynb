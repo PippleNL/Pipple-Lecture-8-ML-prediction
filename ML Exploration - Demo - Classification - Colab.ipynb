{
 "cells": [
  {
   "cell_type": "markdown",
   "metadata": {},
   "source": [
    "# ML Exploration Notebook\n",
    "\n",
    "This notebook can be used to explore the data of an underlying problem and see if the data is suited for predictive analysis. Several classifiers will be compared on predictive performance metrics such as accuracy, precision, recall and area under curve, such that the user can get a head start in solving the problem or managing expectations.\n",
    "\n",
    "The notebook is structured in the following way:\n",
    "\n",
    "    1. Set project path\n",
    "    2. Read in (raw) Data Set\n",
    "    3. Basic Data Information\n",
    "    4. Set Dependent & Independent Variables \n",
    "    5. Set Parameter Values\n",
    "    6. Generate Predictions\n",
    "    7. Compare Models"
   ]
  },
  {
   "cell_type": "markdown",
   "metadata": {},
   "source": [
    "### 1. Set project path"
   ]
  },
  {
   "cell_type": "markdown",
   "metadata": {},
   "source": [
    "In order to make use of the files stored on Github via Colab, we first have to clone the folder on Github to the current Colab-folder."
   ]
  },
  {
   "cell_type": "code",
   "execution_count": 6,
   "metadata": {},
   "outputs": [],
   "source": [
    "# Clone the entire repo. Remove the # from the next two lines.\n",
    "#!git clone -s git://github.com/PippleNL/Pipple-Lecture-8-ML-prediction.git ML_copy\n",
    "#%cd ML_copy"
   ]
  },
  {
   "cell_type": "markdown",
   "metadata": {},
   "source": [
    "We will use package os to set the correct project_path."
   ]
  },
  {
   "cell_type": "code",
   "execution_count": 4,
   "metadata": {},
   "outputs": [],
   "source": [
    "import os\n",
    "project_path = os.getcwd()"
   ]
  },
  {
   "cell_type": "markdown",
   "metadata": {},
   "source": [
    "### 2. Read in (raw) Data Set\n",
    "\n",
    "The (raw) data set of the underlying problem is read from a comma seperated file (.csv). "
   ]
  },
  {
   "cell_type": "code",
   "execution_count": 5,
   "metadata": {},
   "outputs": [],
   "source": [
    "import pandas as pd\n",
    "data_path = os.path.join(project_path, 'data', 'Beer_data.csv')\n",
    "data = pd.read_csv(data_path)"
   ]
  },
  {
   "cell_type": "markdown",
   "metadata": {},
   "source": [
    "### 3. Basic Data Information\n",
    "\n",
    "Below you can find some basic information of the data set. It lists the first couple of rows, a summary of the dataframe including the dtype and number of non-null values per column and the shape of the dataframe."
   ]
  },
  {
   "cell_type": "code",
   "execution_count": 7,
   "metadata": {},
   "outputs": [
    {
     "name": "stdout",
     "output_type": "stream",
     "text": [
      "<class 'pandas.core.frame.DataFrame'>\n",
      "RangeIndex: 5197 entries, 0 to 5196\n",
      "Data columns (total 15 columns):\n",
      "Calories              5197 non-null float64\n",
      "Density               5197 non-null float64\n",
      "Frequency             5197 non-null object\n",
      "Driving_afterwards    5197 non-null int64\n",
      "Belgian               5197 non-null object\n",
      "Special               5197 non-null object\n",
      "Pct_alcohol           5197 non-null float64\n",
      "Pct_protein           5197 non-null float64\n",
      "Pct_yeast             5197 non-null float64\n",
      "pct_hop               5197 non-null float64\n",
      "Score_others          5197 non-null float64\n",
      "Sugar                 5197 non-null float64\n",
      "Water_quality         5197 non-null float64\n",
      "Acid                  5197 non-null float64\n",
      "Score                 5197 non-null object\n",
      "dtypes: float64(10), int64(1), object(4)\n",
      "memory usage: 609.1+ KB\n"
     ]
    }
   ],
   "source": [
    "data.info()"
   ]
  },
  {
   "cell_type": "code",
   "execution_count": 8,
   "metadata": {},
   "outputs": [
    {
     "data": {
      "text/html": [
       "<div>\n",
       "<style scoped>\n",
       "    .dataframe tbody tr th:only-of-type {\n",
       "        vertical-align: middle;\n",
       "    }\n",
       "\n",
       "    .dataframe tbody tr th {\n",
       "        vertical-align: top;\n",
       "    }\n",
       "\n",
       "    .dataframe thead th {\n",
       "        text-align: right;\n",
       "    }\n",
       "</style>\n",
       "<table border=\"1\" class=\"dataframe\">\n",
       "  <thead>\n",
       "    <tr style=\"text-align: right;\">\n",
       "      <th></th>\n",
       "      <th>Calories</th>\n",
       "      <th>Density</th>\n",
       "      <th>Frequency</th>\n",
       "      <th>Driving_afterwards</th>\n",
       "      <th>Belgian</th>\n",
       "      <th>Special</th>\n",
       "      <th>Pct_alcohol</th>\n",
       "      <th>Pct_protein</th>\n",
       "      <th>Pct_yeast</th>\n",
       "      <th>pct_hop</th>\n",
       "      <th>Score_others</th>\n",
       "      <th>Sugar</th>\n",
       "      <th>Water_quality</th>\n",
       "      <th>Acid</th>\n",
       "      <th>Score</th>\n",
       "    </tr>\n",
       "  </thead>\n",
       "  <tbody>\n",
       "    <tr>\n",
       "      <th>0</th>\n",
       "      <td>12.0</td>\n",
       "      <td>0.9916</td>\n",
       "      <td>Almost_never</td>\n",
       "      <td>0</td>\n",
       "      <td>no</td>\n",
       "      <td>N</td>\n",
       "      <td>6.4</td>\n",
       "      <td>12.9</td>\n",
       "      <td>1.10</td>\n",
       "      <td>13.8</td>\n",
       "      <td>5.8</td>\n",
       "      <td>1.65</td>\n",
       "      <td>0.53</td>\n",
       "      <td>0.00</td>\n",
       "      <td>Good</td>\n",
       "    </tr>\n",
       "    <tr>\n",
       "      <th>1</th>\n",
       "      <td>55.0</td>\n",
       "      <td>0.9965</td>\n",
       "      <td>Very Often</td>\n",
       "      <td>0</td>\n",
       "      <td>no</td>\n",
       "      <td>N</td>\n",
       "      <td>9.3</td>\n",
       "      <td>10.9</td>\n",
       "      <td>1.60</td>\n",
       "      <td>7.2</td>\n",
       "      <td>5.8</td>\n",
       "      <td>1.50</td>\n",
       "      <td>0.73</td>\n",
       "      <td>0.39</td>\n",
       "      <td>Good</td>\n",
       "    </tr>\n",
       "    <tr>\n",
       "      <th>2</th>\n",
       "      <td>118.0</td>\n",
       "      <td>0.9908</td>\n",
       "      <td>Very Often</td>\n",
       "      <td>0</td>\n",
       "      <td>no</td>\n",
       "      <td>Y</td>\n",
       "      <td>7.1</td>\n",
       "      <td>11.2</td>\n",
       "      <td>0.78</td>\n",
       "      <td>5.6</td>\n",
       "      <td>2.6</td>\n",
       "      <td>2.80</td>\n",
       "      <td>0.59</td>\n",
       "      <td>0.26</td>\n",
       "      <td>Good</td>\n",
       "    </tr>\n",
       "    <tr>\n",
       "      <th>3</th>\n",
       "      <td>151.0</td>\n",
       "      <td>0.9926</td>\n",
       "      <td>Regular</td>\n",
       "      <td>0</td>\n",
       "      <td>yes</td>\n",
       "      <td>Y</td>\n",
       "      <td>6.7</td>\n",
       "      <td>12.0</td>\n",
       "      <td>0.62</td>\n",
       "      <td>6.2</td>\n",
       "      <td>5.0</td>\n",
       "      <td>4.90</td>\n",
       "      <td>0.82</td>\n",
       "      <td>0.31</td>\n",
       "      <td>Excellent</td>\n",
       "    </tr>\n",
       "    <tr>\n",
       "      <th>4</th>\n",
       "      <td>228.0</td>\n",
       "      <td>0.9957</td>\n",
       "      <td>Often</td>\n",
       "      <td>0</td>\n",
       "      <td>no</td>\n",
       "      <td>Y</td>\n",
       "      <td>7.0</td>\n",
       "      <td>9.4</td>\n",
       "      <td>0.96</td>\n",
       "      <td>6.4</td>\n",
       "      <td>4.0</td>\n",
       "      <td>6.20</td>\n",
       "      <td>0.62</td>\n",
       "      <td>0.24</td>\n",
       "      <td>Good</td>\n",
       "    </tr>\n",
       "  </tbody>\n",
       "</table>\n",
       "</div>"
      ],
      "text/plain": [
       "   Calories  Density     Frequency  Driving_afterwards Belgian Special  \\\n",
       "0      12.0   0.9916  Almost_never                   0      no       N   \n",
       "1      55.0   0.9965    Very Often                   0      no       N   \n",
       "2     118.0   0.9908    Very Often                   0      no       Y   \n",
       "3     151.0   0.9926       Regular                   0     yes       Y   \n",
       "4     228.0   0.9957         Often                   0      no       Y   \n",
       "\n",
       "   Pct_alcohol  Pct_protein  Pct_yeast  pct_hop  Score_others  Sugar  \\\n",
       "0          6.4         12.9       1.10     13.8           5.8   1.65   \n",
       "1          9.3         10.9       1.60      7.2           5.8   1.50   \n",
       "2          7.1         11.2       0.78      5.6           2.6   2.80   \n",
       "3          6.7         12.0       0.62      6.2           5.0   4.90   \n",
       "4          7.0          9.4       0.96      6.4           4.0   6.20   \n",
       "\n",
       "   Water_quality  Acid      Score  \n",
       "0           0.53  0.00       Good  \n",
       "1           0.73  0.39       Good  \n",
       "2           0.59  0.26       Good  \n",
       "3           0.82  0.31  Excellent  \n",
       "4           0.62  0.24       Good  "
      ]
     },
     "execution_count": 8,
     "metadata": {},
     "output_type": "execute_result"
    }
   ],
   "source": [
    "data.head()"
   ]
  },
  {
   "cell_type": "markdown",
   "metadata": {},
   "source": [
    "If you'd like to change a column's dtype to numeric, please add this column to the list of strings below (e.g. columns2num = ['Sugar'])"
   ]
  },
  {
   "cell_type": "code",
   "execution_count": 9,
   "metadata": {},
   "outputs": [],
   "source": [
    "from functions.data_preparation import column2num\n",
    "columns2num = []\n",
    "\n",
    "if len(columns2num) > 0:\n",
    "    data = column2num(data, columns2num)"
   ]
  },
  {
   "cell_type": "markdown",
   "metadata": {},
   "source": [
    "We can check the number of NaN values for each column."
   ]
  },
  {
   "cell_type": "code",
   "execution_count": 10,
   "metadata": {},
   "outputs": [
    {
     "data": {
      "text/plain": [
       "Calories              0\n",
       "Density               0\n",
       "Frequency             0\n",
       "Driving_afterwards    0\n",
       "Belgian               0\n",
       "Special               0\n",
       "Pct_alcohol           0\n",
       "Pct_protein           0\n",
       "Pct_yeast             0\n",
       "pct_hop               0\n",
       "Score_others          0\n",
       "Sugar                 0\n",
       "Water_quality         0\n",
       "Acid                  0\n",
       "Score                 0\n",
       "dtype: int64"
      ]
     },
     "execution_count": 10,
     "metadata": {},
     "output_type": "execute_result"
    }
   ],
   "source": [
    "data.isnull().sum()"
   ]
  },
  {
   "cell_type": "markdown",
   "metadata": {},
   "source": [
    "We'll state the number of unique values per column. If a column only has one value, it will not have any impact on a prediction."
   ]
  },
  {
   "cell_type": "code",
   "execution_count": 11,
   "metadata": {},
   "outputs": [
    {
     "name": "stdout",
     "output_type": "stream",
     "text": [
      "Unique Values for Each Feature: \n",
      "\n",
      "Calories : 274\n",
      "Density : 150\n",
      "Frequency : 5\n",
      "Driving_afterwards : 1\n",
      "Belgian : 2\n",
      "Special : 2\n",
      "Pct_alcohol : 105\n",
      "Pct_protein : 104\n",
      "Pct_yeast : 201\n",
      "pct_hop : 178\n",
      "Score_others : 86\n",
      "Sugar : 303\n",
      "Water_quality : 103\n",
      "Acid : 87\n",
      "Score : 3\n"
     ]
    }
   ],
   "source": [
    "print('Unique Values for Each Feature: \\n')\n",
    "for i in data.columns:\n",
    "    print(i, ':', data[i].nunique())"
   ]
  },
  {
   "cell_type": "markdown",
   "metadata": {},
   "source": [
    "We can have a look at the correlation matrix to get an idea of relations between variables."
   ]
  },
  {
   "cell_type": "code",
   "execution_count": 12,
   "metadata": {},
   "outputs": [
    {
     "data": {
      "text/plain": [
       "<matplotlib.axes._subplots.AxesSubplot at 0x281ec946630>"
      ]
     },
     "execution_count": 12,
     "metadata": {},
     "output_type": "execute_result"
    }
   ],
   "source": [
    "import matplotlib.pyplot as plt\n",
    "import seaborn as sns\n",
    "corr_mat = round(data.corr(method='pearson'), 2)\n",
    "sns.heatmap(corr_mat, vmin=-1, vmax=1, center=0, annot=True, cmap=sns.diverging_palette(20, 220, n=200), square=True)"
   ]
  },
  {
   "cell_type": "markdown",
   "metadata": {},
   "source": [
    "### 4. Set Dependent & Independent Variables\n",
    "\n",
    "Specify below in string which variable (i.e. column) will be used as dependent variable. This variable will be set as y (i.e. label) and will ultimately be modeled. Also, specify a list of other (independent) variables in string that are used to explain the dependent variable. If empty, all other variables will be used."
   ]
  },
  {
   "cell_type": "code",
   "execution_count": 13,
   "metadata": {},
   "outputs": [
    {
     "data": {
      "text/plain": [
       "Index(['Calories', 'Density', 'Frequency', 'Driving_afterwards', 'Belgian',\n",
       "       'Special', 'Pct_alcohol', 'Pct_protein', 'Pct_yeast', 'pct_hop',\n",
       "       'Score_others', 'Sugar', 'Water_quality', 'Acid', 'Score'],\n",
       "      dtype='object')"
      ]
     },
     "execution_count": 13,
     "metadata": {},
     "output_type": "execute_result"
    }
   ],
   "source": [
    "data.columns"
   ]
  },
  {
   "cell_type": "code",
   "execution_count": 14,
   "metadata": {},
   "outputs": [],
   "source": [
    "dependent = 'Score'  # fill in your dependent variable here...\n",
    "independent = ['Calories', 'Density', 'Frequency', 'Driving_afterwards', 'Belgian', 'Special', 'Pct_alcohol'\n",
    "               , 'Pct_protein', 'Pct_yeast', 'pct_hop', 'Score_others'\n",
    "               , 'Sugar', 'Water_quality', 'Acid']  # fill the list of independent variables here..."
   ]
  },
  {
   "cell_type": "markdown",
   "metadata": {},
   "source": [
    "### 5. Set Parameter Values\n",
    "\n",
    "Specify below the parameter values used while comparing models. If kept commented, the default value will be used. If uncommented, added these parameters to the function main."
   ]
  },
  {
   "cell_type": "code",
   "execution_count": 15,
   "metadata": {},
   "outputs": [],
   "source": [
    "impute_strategy = 0.  # either a float or 'drop' (default), 'mean', 'median', 'most_frequent'\n",
    "labelenc_x = ['Belgian', 'Special']  # fill the list of independent variables for label encoding here...\n",
    "onehotenc_x = ['Frequency']  # fill the list of independent variables for one hot encoding\n",
    "labelenc_y = True  # boolean specifying if label encoding for y variable is necessary\n",
    "feature_scaling = 'auto'  # None, 'standardisation', 'minmax' or 'auto'"
   ]
  },
  {
   "cell_type": "markdown",
   "metadata": {},
   "source": [
    "### 6. Generate Predictions\n",
    "\n",
    "Predictions are generated for several models using the function main from the Python script compare_models. Note that if not specified differently, all default parameter values are used. More information can be retrieved by running 'main_classification()'. The function gives two lists; predictions and classes."
   ]
  },
  {
   "cell_type": "code",
   "execution_count": 16,
   "metadata": {},
   "outputs": [],
   "source": [
    "import warnings\n",
    "warnings.filterwarnings(\"ignore\", category=DeprecationWarning)\n",
    "warnings.filterwarnings(\"ignore\", category=FutureWarning)\n",
    "\n",
    "from functions.compare_models import main_classification\n",
    "predictions, classes = main_classification(data, dependent, independent, impute_strategy=impute_strategy, labelenc_x=labelenc_x, onehotenc_x=onehotenc_x, feature_scaling_method=feature_scaling)"
   ]
  },
  {
   "cell_type": "markdown",
   "metadata": {},
   "source": [
    "### 7. Compare Models\n",
    "\n",
    "Models are compared based on predictive performance metrics that are calculated and sorted by the (own-developed) function 'sort_compute_metrics_clf' in the Python script 'compare_models'. More information on the function can be retrieved using sort_compute_metrics_clf()."
   ]
  },
  {
   "cell_type": "code",
   "execution_count": 17,
   "metadata": {},
   "outputs": [
    {
     "data": {
      "text/html": [
       "<div>\n",
       "<style scoped>\n",
       "    .dataframe tbody tr th:only-of-type {\n",
       "        vertical-align: middle;\n",
       "    }\n",
       "\n",
       "    .dataframe tbody tr th {\n",
       "        vertical-align: top;\n",
       "    }\n",
       "\n",
       "    .dataframe thead th {\n",
       "        text-align: right;\n",
       "    }\n",
       "</style>\n",
       "<table border=\"1\" class=\"dataframe\">\n",
       "  <thead>\n",
       "    <tr style=\"text-align: right;\">\n",
       "      <th></th>\n",
       "      <th>model</th>\n",
       "      <th>accuracy</th>\n",
       "      <th>precision</th>\n",
       "      <th>recall</th>\n",
       "      <th>F1</th>\n",
       "      <th>auc</th>\n",
       "    </tr>\n",
       "  </thead>\n",
       "  <tbody>\n",
       "    <tr>\n",
       "      <th>0</th>\n",
       "      <td>RandomForest</td>\n",
       "      <td>0.700962</td>\n",
       "      <td>0.703397</td>\n",
       "      <td>0.700962</td>\n",
       "      <td>0.701323</td>\n",
       "      <td>-</td>\n",
       "    </tr>\n",
       "    <tr>\n",
       "      <th>1</th>\n",
       "      <td>svc</td>\n",
       "      <td>0.612500</td>\n",
       "      <td>0.617062</td>\n",
       "      <td>0.612500</td>\n",
       "      <td>0.608057</td>\n",
       "      <td>-</td>\n",
       "    </tr>\n",
       "    <tr>\n",
       "      <th>2</th>\n",
       "      <td>logistic</td>\n",
       "      <td>0.589423</td>\n",
       "      <td>0.590319</td>\n",
       "      <td>0.589423</td>\n",
       "      <td>0.584665</td>\n",
       "      <td>-</td>\n",
       "    </tr>\n",
       "    <tr>\n",
       "      <th>3</th>\n",
       "      <td>knn</td>\n",
       "      <td>0.545192</td>\n",
       "      <td>0.546280</td>\n",
       "      <td>0.545192</td>\n",
       "      <td>0.545164</td>\n",
       "      <td>-</td>\n",
       "    </tr>\n",
       "    <tr>\n",
       "      <th>4</th>\n",
       "      <td>naive</td>\n",
       "      <td>0.495192</td>\n",
       "      <td>0.527988</td>\n",
       "      <td>0.495192</td>\n",
       "      <td>0.499847</td>\n",
       "      <td>-</td>\n",
       "    </tr>\n",
       "  </tbody>\n",
       "</table>\n",
       "</div>"
      ],
      "text/plain": [
       "          model  accuracy  precision    recall        F1 auc\n",
       "0  RandomForest  0.700962   0.703397  0.700962  0.701323   -\n",
       "1           svc  0.612500   0.617062  0.612500  0.608057   -\n",
       "2      logistic  0.589423   0.590319  0.589423  0.584665   -\n",
       "3           knn  0.545192   0.546280  0.545192  0.545164   -\n",
       "4         naive  0.495192   0.527988  0.495192  0.499847   -"
      ]
     },
     "execution_count": 17,
     "metadata": {},
     "output_type": "execute_result"
    }
   ],
   "source": [
    "from functions.compare_models import sort_compute_metrics_clf\n",
    "multi_class = True if len(classes) > 2 else False\n",
    "header, scores = sort_compute_metrics_clf(predictions, multi_class=multi_class)\n",
    "pd.DataFrame(scores, columns=header)"
   ]
  },
  {
   "cell_type": "markdown",
   "metadata": {},
   "source": [
    "Accuracy = ratio of correctly predicted classes -> (True Positive + True Negative)/(all observations)\n",
    "Precision = Given that model predicts True, how many are true -> (True Positive)/(True Positive + False Positive)\n",
    "recall = Ratio of actual True labels guessed by the model -> (True Positive) / (True Positive + False Negative)\n",
    "https://en.wikipedia.org/wiki/Sensitivity_and_specificity"
   ]
  },
  {
   "cell_type": "code",
   "execution_count": 53,
   "metadata": {},
   "outputs": [
    {
     "data": {
      "image/png": "[encoded data removed]",
      "text/plain": [
       "<Figure size 432x432 with 2 Axes>"
      ]
     },
     "metadata": {
      "needs_background": "light"
     },
     "output_type": "display_data"
    },
    {
     "data": {
      "image/png": "[encoded data removed]",
      "text/plain": [
       "<Figure size 432x432 with 2 Axes>"
      ]
     },
     "metadata": {
      "needs_background": "light"
     },
     "output_type": "display_data"
    },
    {
     "data": {
      "image/png": "[encoded data removed]",
      "text/plain": [
       "<Figure size 432x432 with 2 Axes>"
      ]
     },
     "metadata": {
      "needs_background": "light"
     },
     "output_type": "display_data"
    },
    {
     "data": {
      "image/png": "[encoded data removed]",
      "text/plain": [
       "<Figure size 432x432 with 2 Axes>"
      ]
     },
     "metadata": {
      "needs_background": "light"
     },
     "output_type": "display_data"
    },
    {
     "data": {
      "image/png": "[encoded data removed]",
      "text/plain": [
       "<Figure size 432x432 with 2 Axes>"
      ]
     },
     "metadata": {
      "needs_background": "light"
     },
     "output_type": "display_data"
    }
   ],
   "source": [
    "from sklearn.metrics import confusion_matrix\n",
    "%matplotlib inline\n",
    "\n",
    "for i in range(0,len(predictions)):\n",
    "    \n",
    "    cm = confusion_matrix(predictions[i][2], predictions[i][1])\n",
    "    df_cm = pd.DataFrame(cm, index = [i for i in classes],\n",
    "                      columns = [i for i in classes])\n",
    "    plt.figure(figsize = (6,6))\n",
    "    ax = plt.subplot()\n",
    "    sns.heatmap(df_cm, annot=True, ax = ax, fmt='.3g')\n",
    "    ax.set_xlabel('Predicted labels')\n",
    "    ax.set_ylabel('True labels')\n",
    "    ax.set_title('Confusion Matrix - '+ predictions[i][0])"
   ]
  }
 ],
 "metadata": {
  "_change_revision": 0,
  "_is_fork": false,
  "kernelspec": {
   "display_name": "Python 3",
   "language": "python",
   "name": "python3"
  },
  "language_info": {
   "codemirror_mode": {
    "name": "ipython",
    "version": 3
   },
   "file_extension": ".py",
   "mimetype": "text/x-python",
   "name": "python",
   "nbconvert_exporter": "python",
   "pygments_lexer": "ipython3",
   "version": "3.7.3"
  }
 },
 "nbformat": 4,
 "nbformat_minor": 2
}
